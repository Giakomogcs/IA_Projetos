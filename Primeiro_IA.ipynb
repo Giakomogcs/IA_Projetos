{
  "nbformat": 4,
  "nbformat_minor": 0,
  "metadata": {
    "colab": {
      "name": "Primeiro IA.ipynb",
      "provenance": []
    },
    "kernelspec": {
      "name": "python3",
      "display_name": "Python 3"
    },
    "language_info": {
      "name": "python"
    }
  },
  "cells": [
    {
      "cell_type": "markdown",
      "metadata": {
        "id": "z9xb6ANgGmey"
      },
      "source": [
        "#Primeiro projeto de IA\n",
        "\n"
      ]
    },
    {
      "cell_type": "markdown",
      "metadata": {
        "id": "QDL7Gr8tLwGG"
      },
      "source": [
        "Importando bibliotecas"
      ]
    },
    {
      "cell_type": "code",
      "metadata": {
        "id": "a-R5bLrjGItV"
      },
      "source": [
        "#Manipulação dos dados\n",
        "import pandas as pd\n"
      ],
      "execution_count": 24,
      "outputs": []
    },
    {
      "cell_type": "code",
      "metadata": {
        "id": "isuAroQ2LKhS"
      },
      "source": [
        "df = pd.read_csv(\"KAG_conversion_data.csv\") "
      ],
      "execution_count": 25,
      "outputs": []
    },
    {
      "cell_type": "code",
      "metadata": {
        "id": "E6g89VdSOHkw"
      },
      "source": [
        "df.head() #lista mostra por padrão 5 primeiras linhas"
      ],
      "execution_count": null,
      "outputs": []
    },
    {
      "cell_type": "code",
      "metadata": {
        "id": "wj1B8sv_Tn1H"
      },
      "source": [
        "df.tail()  #lista mostra por padrão 5 ultimas linhas"
      ],
      "execution_count": null,
      "outputs": []
    },
    {
      "cell_type": "code",
      "metadata": {
        "id": "2Zi1Pb3TUa7X"
      },
      "source": [
        "df.index #mostra tamanho de index(id) no arquivo"
      ],
      "execution_count": null,
      "outputs": []
    },
    {
      "cell_type": "code",
      "metadata": {
        "id": "5NwXVuWrUpiC"
      },
      "source": [
        "df.shape # linhas e colunas"
      ],
      "execution_count": null,
      "outputs": []
    },
    {
      "cell_type": "code",
      "metadata": {
        "id": "7SvNjqIpU1V4"
      },
      "source": [
        "linhas,colunas = df.shape\n",
        "print(f\"O número de linhas é {linhas}\")\n",
        "print(f\"O número de colunas é {colunas}\")"
      ],
      "execution_count": null,
      "outputs": []
    },
    {
      "cell_type": "code",
      "metadata": {
        "id": "Fhp5hJC4VhB8"
      },
      "source": [
        "df.info()"
      ],
      "execution_count": null,
      "outputs": []
    }
  ]
}